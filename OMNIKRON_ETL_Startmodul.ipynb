{
 "cells": [
  {
   "cell_type": "code",
   "execution_count": null,
   "id": "135c0fc4",
   "metadata": {},
   "outputs": [],
   "source": [
    "import pandas as pd\n",
    "import os\n",
    "\n",
    "def load_csv_data(file_path):\n",
    "    if not os.path.exists(file_path):\n",
    "        raise FileNotFoundError(f\"Datei nicht gefunden: {file_path}\")\n",
    "    try:\n",
    "        df = pd.read_csv(file_path)\n",
    "        print(f\"[INFO] {len(df)} Zeilen erfolgreich geladen aus: {file_path}\")\n",
    "        return df\n",
    "    except Exception as e:\n",
    "        print(f\"[ERROR] Fehler beim Laden der Datei: {e}\")\n",
    "        raise\n"
   ]
  },
  {
   "cell_type": "code",
   "execution_count": 4,
   "id": "9dee5b9e",
   "metadata": {},
   "outputs": [
    {
     "name": "stdout",
     "output_type": "stream",
     "text": [
      "[INFO] 2 Zeilen erfolgreich geladen aus: C:\\Users\\denni\\OneDrive\\Dokumente\\OMNIKRON LX – Die Intelligenz hinter dem Datenuniversum\\beispiel.csv\n"
     ]
    },
    {
     "data": {
      "application/vnd.microsoft.datawrangler.viewer.v0+json": {
       "columns": [
        {
         "name": "index",
         "rawType": "int64",
         "type": "integer"
        },
        {
         "name": "name",
         "rawType": "object",
         "type": "string"
        },
        {
         "name": "alter",
         "rawType": "int64",
         "type": "integer"
        }
       ],
       "ref": "9197e396-3bf6-4401-8728-f2f640d3ac32",
       "rows": [
        [
         "0",
         "Max",
         "34"
        ],
        [
         "1",
         "Anna",
         "29"
        ]
       ],
       "shape": {
        "columns": 2,
        "rows": 2
       }
      },
      "text/html": [
       "<div>\n",
       "<style scoped>\n",
       "    .dataframe tbody tr th:only-of-type {\n",
       "        vertical-align: middle;\n",
       "    }\n",
       "\n",
       "    .dataframe tbody tr th {\n",
       "        vertical-align: top;\n",
       "    }\n",
       "\n",
       "    .dataframe thead th {\n",
       "        text-align: right;\n",
       "    }\n",
       "</style>\n",
       "<table border=\"1\" class=\"dataframe\">\n",
       "  <thead>\n",
       "    <tr style=\"text-align: right;\">\n",
       "      <th></th>\n",
       "      <th>name</th>\n",
       "      <th>alter</th>\n",
       "    </tr>\n",
       "  </thead>\n",
       "  <tbody>\n",
       "    <tr>\n",
       "      <th>0</th>\n",
       "      <td>Max</td>\n",
       "      <td>34</td>\n",
       "    </tr>\n",
       "    <tr>\n",
       "      <th>1</th>\n",
       "      <td>Anna</td>\n",
       "      <td>29</td>\n",
       "    </tr>\n",
       "  </tbody>\n",
       "</table>\n",
       "</div>"
      ],
      "text/plain": [
       "   name  alter\n",
       "0   Max     34\n",
       "1  Anna     29"
      ]
     },
     "execution_count": 4,
     "metadata": {},
     "output_type": "execute_result"
    }
   ],
   "source": [
    "path = r\"C:\\Users\\denni\\OneDrive\\Dokumente\\OMNIKRON LX – Die Intelligenz hinter dem Datenuniversum\\beispiel.csv\"\n",
    "load_csv_data(path)\n"
   ]
  },
  {
   "cell_type": "code",
   "execution_count": 1,
   "id": "d1c8610c",
   "metadata": {},
   "outputs": [],
   "source": [
    "import pandas as pd\n",
    "\n",
    "def clean_data(df):\n",
    "    \"\"\"\n",
    "    Führt grundlegende Datenbereinigung durch:\n",
    "    - Entfernt leere Zeilen\n",
    "    - Entfernt Duplikate\n",
    "    - Entfernt führende/nachgestellte Leerzeichen\n",
    "    \"\"\"\n",
    "    df = df.dropna(how=\"all\")\n",
    "    df = df.drop_duplicates()\n",
    "    df = df.applymap(lambda x: x.strip() if isinstance(x, str) else x)\n",
    "    print(\"[INFO] Datenbereinigung abgeschlossen.\")\n",
    "    return df\n"
   ]
  }
 ],
 "metadata": {
  "kernelspec": {
   "display_name": "Python 3",
   "language": "python",
   "name": "python3"
  },
  "language_info": {
   "codemirror_mode": {
    "name": "ipython",
    "version": 3
   },
   "file_extension": ".py",
   "mimetype": "text/x-python",
   "name": "python",
   "nbconvert_exporter": "python",
   "pygments_lexer": "ipython3",
   "version": "3.10.11"
  }
 },
 "nbformat": 4,
 "nbformat_minor": 5
}
